{
 "cells": [
  {
   "cell_type": "markdown",
   "metadata": {},
   "source": [
    "# DSCI 572 Lecture 3\n",
    "\n",
    "How to survive in a world where everything is wrong.\n",
    "\n",
    "#### Outline:\n",
    "\n",
    "- Binary representations (5 min)\n",
    "- Decimals in binary (5 min)\n",
    "- Fixed point (5 min)\n",
    "- Floating point (20 min)\n",
    "- Break (5 min)\n",
    "- Spacing between numbers (10 min)\n",
    "- Order of operations (10 min)\n",
    "- Log-sum-exp (15 min)\n",
    "- Matrix inversions (5 min)"
   ]
  },
  {
   "cell_type": "markdown",
   "metadata": {},
   "source": [
    "Context:\n",
    "\n",
    "- This used to be the first of a two-lecture sequence.\n",
    "- 2nd lecture has been removed.\n",
    "- So this is a \"standalone\" topic in the course.\n",
    "  - Not super related to our story but you need to see it somewhere."
   ]
  },
  {
   "cell_type": "code",
   "execution_count": 1,
   "metadata": {},
   "outputs": [],
   "source": [
    "import numpy as np\n",
    "import numpy.linalg as npla\n",
    "import matplotlib.pyplot as plt\n",
    "%matplotlib inline"
   ]
  },
  {
   "cell_type": "code",
   "execution_count": 2,
   "metadata": {},
   "outputs": [],
   "source": [
    "plt.rcParams['font.size'] = 16"
   ]
  },
  {
   "cell_type": "markdown",
   "metadata": {},
   "source": [
    "Motivating examples:"
   ]
  },
  {
   "cell_type": "code",
   "execution_count": 29,
   "metadata": {
    "scrolled": true
   },
   "outputs": [
    {
     "data": {
      "text/plain": [
       "-2775.5575615628914"
      ]
     },
     "execution_count": 29,
     "metadata": {},
     "output_type": "execute_result"
    }
   ],
   "source": [
    "(0.3 - 0.2 - 0.1)*1e20"
   ]
  },
  {
   "cell_type": "code",
   "execution_count": 4,
   "metadata": {},
   "outputs": [
    {
     "data": {
      "text/plain": [
       "True"
      ]
     },
     "execution_count": 4,
     "metadata": {},
     "output_type": "execute_result"
    }
   ],
   "source": [
    "1e40 + 10000000000000000 == 1e40"
   ]
  },
  {
   "cell_type": "markdown",
   "metadata": {},
   "source": [
    "(try this in other languages!)\n",
    "\n",
    "<br><br><br><br><br>\n",
    "\n",
    "Funny story: during my undergrad I send a bug report to MathWorks because I observed this behaviour in MATLAB. I got a very polite and patient response... "
   ]
  },
  {
   "cell_type": "markdown",
   "metadata": {},
   "source": [
    "## Binary numbers and representations of integers (5 min)"
   ]
  },
  {
   "cell_type": "code",
   "execution_count": 5,
   "metadata": {},
   "outputs": [
    {
     "data": {
      "text/plain": [
       "'1101'"
      ]
     },
     "execution_count": 5,
     "metadata": {},
     "output_type": "execute_result"
    }
   ],
   "source": [
    "\"{0:b}\".format(13)"
   ]
  },
  {
   "cell_type": "code",
   "execution_count": 6,
   "metadata": {},
   "outputs": [
    {
     "data": {
      "text/plain": [
       "int"
      ]
     },
     "execution_count": 6,
     "metadata": {},
     "output_type": "execute_result"
    }
   ],
   "source": [
    "x = 13\n",
    "type(x)"
   ]
  },
  {
   "cell_type": "markdown",
   "metadata": {},
   "source": [
    "Read this as\n",
    "\n",
    "\\begin{align*}\n",
    "  &1\\times 2^3 \\\\\n",
    "+\\, &1\\times 2^2 \\\\\n",
    "+\\, &0\\times 2^1 \\\\\n",
    "+\\, &1\\times 2^0  \\\\\n",
    "\\\\\n",
    "=\\, &8+4+1 = 13\n",
    "\\end{align*}"
   ]
  },
  {
   "cell_type": "markdown",
   "metadata": {},
   "source": [
    "- In practice there's one bit used as the \"sign bit\"\n",
    "- Since we don't need both positive 0 and negative 0, we keep one extra number on the negative side\n",
    "- So a 64-bit integer ranges from $-2^{63}$ to $2^{63}-1$, inclusive.\n",
    "- Python is special because it takes care of this for you behind the scenes. "
   ]
  },
  {
   "cell_type": "code",
   "execution_count": 7,
   "metadata": {},
   "outputs": [
    {
     "data": {
      "text/plain": [
       "int"
      ]
     },
     "execution_count": 7,
     "metadata": {},
     "output_type": "execute_result"
    }
   ],
   "source": [
    "type(2**100) # Python is special"
   ]
  },
  {
   "cell_type": "code",
   "execution_count": 9,
   "metadata": {},
   "outputs": [
    {
     "data": {
      "text/plain": [
       "1267650600228229401496703205376"
      ]
     },
     "execution_count": 9,
     "metadata": {},
     "output_type": "execute_result"
    }
   ],
   "source": [
    "2**100"
   ]
  },
  {
   "cell_type": "markdown",
   "metadata": {},
   "source": [
    "## Review scientific notation (0 min)"
   ]
  },
  {
   "cell_type": "code",
   "execution_count": 10,
   "metadata": {},
   "outputs": [
    {
     "data": {
      "text/plain": [
       "2.3423423974482344e+16"
      ]
     },
     "execution_count": 10,
     "metadata": {},
     "output_type": "execute_result"
    }
   ],
   "source": [
    "23423423974482344.0"
   ]
  },
  {
   "cell_type": "markdown",
   "metadata": {},
   "source": [
    "## Decimal numbers in binary (5 min)\n",
    "\n",
    "Consider the number $101.11$\n",
    "\n",
    "Interpretation:\n",
    "\n",
    "$$\\begin{align*}\n",
    "    &1\\times 2^2 \\\\\n",
    "+\\, &0\\times 2^1 \\\\\n",
    "+\\, &1\\times 2^0 \\\\\n",
    "+\\, &1\\times 2^{-1}  \\\\\n",
    "+\\, &1\\times 2^{-2}  \\\\\n",
    "\\\\\n",
    "=\\, &4+1+0.5+0.25 = 5.75\n",
    "\\end{align*}$$\n",
    "\n",
    "Exercise: convert $110.101$ to base 10.\n",
    "\n"
   ]
  },
  {
   "cell_type": "markdown",
   "metadata": {},
   "source": [
    "## Fixed point (5 min)\n",
    "\n",
    "- We have 64 bits per number.\n",
    "- Should we use 32 bits on each side of the decimal?\n",
    "- Or 32 and 31, because we need the sign."
   ]
  },
  {
   "cell_type": "code",
   "execution_count": 11,
   "metadata": {},
   "outputs": [
    {
     "data": {
      "text/plain": [
       "4294967296"
      ]
     },
     "execution_count": 11,
     "metadata": {},
     "output_type": "execute_result"
    }
   ],
   "source": [
    "2**32"
   ]
  },
  {
   "cell_type": "code",
   "execution_count": 12,
   "metadata": {},
   "outputs": [
    {
     "data": {
      "text/plain": [
       "0.0001220703125"
      ]
     },
     "execution_count": 12,
     "metadata": {},
     "output_type": "execute_result"
    }
   ],
   "source": [
    "2**-13"
   ]
  },
  {
   "cell_type": "markdown",
   "metadata": {},
   "source": [
    "## Floating point (20 min)\n",
    "\n",
    "Everything is represented in \"scientific notation\". In other words, $A \\times 10^B$. Except in this case it's more like $1.M \\times 2^E$, where $M$ is called the mantissa and $E$ is called the exponent.\n",
    "\n",
    "Examples:\n",
    "\n",
    "| number in base 10  | scientific notation (base 10) | scientific notation (binary) | mantissa (M)  | exponent (E)  | \n",
    "|--------------------|-------------------------------|------------------------------|--------|--------|\n",
    "|  $2$               |  $1.0\\times 2^1$              |  $1.0 \\times 2^1$            | $0$    |  $1$   |\n",
    "|  $10$              |  $1.25\\times 2^3$             |  $1.01\\times 2^{11}$         | $01$   |  $11$  | \n",
    "| $0.375$            |  $1.5\\times 2^{-2} $          |  $1.1\\times 2^{-10}$         | $1$    |  $-10$ |\n",
    "| $0.1$              |  $1.6 \\times 2^{-4}$          | $1.100110011\\ldots \\times 2^{-100}$       | $100110011$...   | $-100$ |"
   ]
  },
  {
   "cell_type": "markdown",
   "metadata": {},
   "source": [
    "- Some numbers that are short in base 10 are (infinitely) long in base 2, like $0.1$.\n",
    "- We have infinitely long numbers like this in base 10 too, like $1/3$."
   ]
  },
  {
   "cell_type": "markdown",
   "metadata": {},
   "source": [
    "[**IEEE floating point standard**](https://en.wikipedia.org/wiki/IEEE_floating_point): \n",
    "\n",
    "Key info: in IEEE double precision, we use 1 bit for the overall sign, 52 bits for the mantissa and 11 bits for the exponent (total = 64 bits)."
   ]
  },
  {
   "cell_type": "code",
   "execution_count": 14,
   "metadata": {},
   "outputs": [
    {
     "data": {
      "text/plain": [
       "1e+300"
      ]
     },
     "execution_count": 14,
     "metadata": {},
     "output_type": "execute_result"
    }
   ],
   "source": [
    "10.0**300.0"
   ]
  },
  {
   "cell_type": "code",
   "execution_count": 15,
   "metadata": {},
   "outputs": [
    {
     "ename": "OverflowError",
     "evalue": "(34, 'Result too large')",
     "output_type": "error",
     "traceback": [
      "\u001b[0;31m---------------------------------------------------------------------------\u001b[0m",
      "\u001b[0;31mOverflowError\u001b[0m                             Traceback (most recent call last)",
      "\u001b[0;32m<ipython-input-15-f0a277501f34>\u001b[0m in \u001b[0;36m<module>\u001b[0;34m\u001b[0m\n\u001b[0;32m----> 1\u001b[0;31m \u001b[0;36m10.0\u001b[0m\u001b[0;34m**\u001b[0m\u001b[0;36m400.0\u001b[0m\u001b[0;34m\u001b[0m\u001b[0;34m\u001b[0m\u001b[0m\n\u001b[0m",
      "\u001b[0;31mOverflowError\u001b[0m: (34, 'Result too large')"
     ]
    }
   ],
   "source": [
    "10.0**400.0"
   ]
  },
  {
   "cell_type": "markdown",
   "metadata": {},
   "source": [
    "Below are two pieces of code that more-or-less do the same thing, namely convert a float to its binary representation."
   ]
  },
  {
   "cell_type": "code",
   "execution_count": 16,
   "metadata": {},
   "outputs": [],
   "source": [
    "# from http://stackoverflow.com/questions/16444726/binary-representation-of-float-in-python-bits-not-hex\n",
    "\n",
    "import struct\n",
    "def binary(num):\n",
    "    packed = struct.pack('!d', float(num))\n",
    "    integers = [c for c in packed]\n",
    "    binaries = [bin(i) for i in integers]\n",
    "    stripped_binaries = [s.replace('0b', '') for s in binaries]\n",
    "    padded = [s.rjust(8, '0') for s in stripped_binaries]\n",
    "    final = ''.join(padded)\n",
    "    assert len(final) == 64\n",
    "    # alternate approach\n",
    "#     x = float(x)\n",
    "#     if x == 0:\n",
    "#         return \"0\" * 64\n",
    "#     w, sign = (float.hex(x), 0) if x > 0 else (float.hex(x)[1:], 1)\n",
    "#     mantissa, exp = int(w[4:17], 16), int(w[18:])\n",
    "#     final = \"{}{:011b}{:052b}\".format(sign, exp + 1023, mantissa)\n",
    "    \n",
    "    sign, exponent_plus_1023, mantissa = final[0], final[1:12], final[12:]\n",
    "    \n",
    "    sign_str = \"\" if int(sign) == 0 else \"-\"\n",
    "\n",
    "    mantissa_base10_scale = int(mantissa, 2)\n",
    "    mantissa_base10 = mantissa_base10_scale / 2**52 # shift decimal point from end of binary string to beginning of it\n",
    "    mantissa_base10 = round(mantissa_base10, 8) # purely for cosmetic reasons, not actually part of it\n",
    "    mantissa_base10_str = str(mantissa_base10)[2:] # throw away the leading \"0.\"\n",
    "    exponent_base10 = int(exponent_plus_1023, 2) - 1023\n",
    "    print(\"%s = %s1.%s x 2^%s\" % (num, sign_str, mantissa_base10_str, exponent_base10))\n",
    "\n",
    "    print()\n",
    "    \n",
    "    print(\"%s %s %s\" % (sign, exponent_plus_1023, mantissa))\n",
    "    print(\"^       ^                        ^\")\n",
    "    print(\"sign    exponent+1023 (%d)     mantissa (%s)\" % (exponent_base10+1023, mantissa_base10))\n",
    "    "
   ]
  },
  {
   "cell_type": "code",
   "execution_count": 17,
   "metadata": {},
   "outputs": [
    {
     "name": "stdout",
     "output_type": "stream",
     "text": [
      "2 = 1.0 x 2^1\n",
      "\n",
      "0 10000000000 0000000000000000000000000000000000000000000000000000\n",
      "^       ^                        ^\n",
      "sign    exponent+1023 (1024)     mantissa (0.0)\n"
     ]
    }
   ],
   "source": [
    "binary(2)"
   ]
  },
  {
   "cell_type": "code",
   "execution_count": 18,
   "metadata": {},
   "outputs": [
    {
     "name": "stdout",
     "output_type": "stream",
     "text": [
      "10 = 1.25 x 2^3\n",
      "\n",
      "0 10000000010 0100000000000000000000000000000000000000000000000000\n",
      "^       ^                        ^\n",
      "sign    exponent+1023 (1026)     mantissa (0.25)\n"
     ]
    }
   ],
   "source": [
    "binary(10)"
   ]
  },
  {
   "cell_type": "code",
   "execution_count": 19,
   "metadata": {
    "scrolled": true
   },
   "outputs": [
    {
     "name": "stdout",
     "output_type": "stream",
     "text": [
      "0.375 = 1.5 x 2^-2\n",
      "\n",
      "0 01111111101 1000000000000000000000000000000000000000000000000000\n",
      "^       ^                        ^\n",
      "sign    exponent+1023 (1021)     mantissa (0.5)\n"
     ]
    }
   ],
   "source": [
    "binary(0.375)"
   ]
  },
  {
   "cell_type": "code",
   "execution_count": 20,
   "metadata": {
    "scrolled": true
   },
   "outputs": [
    {
     "name": "stdout",
     "output_type": "stream",
     "text": [
      "0.1 = 1.6 x 2^-4\n",
      "\n",
      "0 01111111011 1001100110011001100110011001100110011001100110011010\n",
      "^       ^                        ^\n",
      "sign    exponent+1023 (1019)     mantissa (0.6)\n"
     ]
    }
   ],
   "source": [
    "binary(0.1)"
   ]
  },
  {
   "cell_type": "markdown",
   "metadata": {},
   "source": [
    "Note: Instead of storing the 11-bit exponent as a signed integer from $-1023$ to $1024$, it is actually stored as an unsigned integer from $0$ to $2047$. So you need to read the number from the raw bits and then subtract $1023$. "
   ]
  },
  {
   "cell_type": "markdown",
   "metadata": {},
   "source": [
    "#### some take home messages (!!)\n",
    "\n",
    "- numbers are not represented exactly\n",
    "- most calculations are \"wrong\"\n",
    "- when these errors are introduced, **you might not get an error message or warning**\n",
    "- most numbers cannot be represented\n",
    "- even most _integers_ cannot be represented as floating point numbers\n",
    "- there is a biggest number\n",
    "- there is a smallest number\n",
    "- most environments you'll encounter will use IEEE double precision... but others do exist (especially single precision)"
   ]
  },
  {
   "cell_type": "code",
   "execution_count": 21,
   "metadata": {},
   "outputs": [
    {
     "data": {
      "text/plain": [
       "int"
      ]
     },
     "execution_count": 21,
     "metadata": {},
     "output_type": "execute_result"
    }
   ],
   "source": [
    "type(100)"
   ]
  },
  {
   "cell_type": "code",
   "execution_count": 22,
   "metadata": {},
   "outputs": [
    {
     "data": {
      "text/plain": [
       "float"
      ]
     },
     "execution_count": 22,
     "metadata": {},
     "output_type": "execute_result"
    }
   ],
   "source": [
    "type(100.0)"
   ]
  },
  {
   "cell_type": "markdown",
   "metadata": {},
   "source": [
    "## Break (5 min)"
   ]
  },
  {
   "cell_type": "markdown",
   "metadata": {},
   "source": [
    "## Spacing between numbers (10 min)\n",
    "\n",
    "Imagine you were in the decimal system (not binary), and were using scientific notation but you were only allowed 3 digits after the decimal point. In-class exercise: how large is the _spacing_ between the given number and the _next largest number that we can represent_?\n",
    "\n",
    "- $8.982$\n",
    "- $3.432\\times 10^2$\n",
    "- $0.001\\times 10^1$\n",
    "\n",
    "Conclusion: we only need to look at the exponent. \n",
    "\n",
    "The same goes for binary. The steps happen at every power of 2 instead of 10, and we have way more digits after the decimal (52 instead of 3), but everything else is pretty much the same.\n",
    "\n",
    "So the spacing size, as a function of the number itself, is a staircase function. \n"
   ]
  },
  {
   "cell_type": "code",
   "execution_count": 23,
   "metadata": {},
   "outputs": [
    {
     "data": {
      "image/png": "[encoded data removed]",
      "text/plain": [
       "<Figure size 432x288 with 1 Axes>"
      ]
     },
     "metadata": {
      "needs_background": "light"
     },
     "output_type": "display_data"
    }
   ],
   "source": [
    "x = np.linspace(1,1000,100000)\n",
    "spacing = 2**np.floor(np.log2(x))\n",
    "plt.plot(x, spacing);\n",
    "plt.xlabel(\"Number itself\");\n",
    "plt.ylabel(\"Gap to the next number\");"
   ]
  },
  {
   "cell_type": "code",
   "execution_count": 25,
   "metadata": {},
   "outputs": [
    {
     "data": {
      "text/plain": [
       "2.220446049250313e-16"
      ]
     },
     "execution_count": 25,
     "metadata": {},
     "output_type": "execute_result"
    }
   ],
   "source": [
    "2**-52 # this is the spacing at 1.0"
   ]
  },
  {
   "cell_type": "code",
   "execution_count": 26,
   "metadata": {},
   "outputs": [
    {
     "data": {
      "text/plain": [
       "True"
      ]
     },
     "execution_count": 26,
     "metadata": {},
     "output_type": "execute_result"
    }
   ],
   "source": [
    "1.0 + 1e-20 == 1.0"
   ]
  },
  {
   "cell_type": "code",
   "execution_count": 27,
   "metadata": {},
   "outputs": [
    {
     "data": {
      "text/plain": [
       "-2.7755575615628914e-17"
      ]
     },
     "execution_count": 27,
     "metadata": {},
     "output_type": "execute_result"
    }
   ],
   "source": [
    "0.3 - 0.2 - 0.1"
   ]
  },
  {
   "cell_type": "markdown",
   "metadata": {},
   "source": [
    "The steps get bigger, but the trend is a straight line. In other words, if we zoom out we see that the spacing size is _proportional to the number itself_. "
   ]
  },
  {
   "cell_type": "code",
   "execution_count": 24,
   "metadata": {},
   "outputs": [
    {
     "data": {
      "image/png": "[encoded data removed]",
      "text/plain": [
       "<Figure size 432x288 with 1 Axes>"
      ]
     },
     "metadata": {
      "needs_background": "light"
     },
     "output_type": "display_data"
    }
   ],
   "source": [
    "plt.plot(x, spacing)\n",
    "plt.plot(x,x);\n",
    "plt.xlabel(\"Number itself\");\n",
    "plt.ylabel(\"Gap to the next number\");"
   ]
  },
  {
   "cell_type": "markdown",
   "metadata": {},
   "source": [
    "We can also look on a log-log scale"
   ]
  },
  {
   "cell_type": "code",
   "execution_count": null,
   "metadata": {},
   "outputs": [],
   "source": [
    "plt.loglog(x,spacing)\n",
    "plt.loglog(x,x);\n",
    "plt.xlabel(\"Number itself\");\n",
    "plt.ylabel(\"Gap to the next number\");"
   ]
  },
  {
   "cell_type": "markdown",
   "metadata": {},
   "source": [
    "Going back to our original example:"
   ]
  },
  {
   "cell_type": "code",
   "execution_count": null,
   "metadata": {},
   "outputs": [],
   "source": [
    "0.3-0.2-0.1"
   ]
  },
  {
   "cell_type": "markdown",
   "metadata": {},
   "source": [
    "- Let's assume some rounding occurred at the end, i.e. 52 bits after the decimal point. \n",
    "- Then we'd expect things to be wrong on the order of "
   ]
  },
  {
   "cell_type": "code",
   "execution_count": null,
   "metadata": {},
   "outputs": [],
   "source": [
    "2**(-52)*(0.1)"
   ]
  },
  {
   "cell_type": "code",
   "execution_count": null,
   "metadata": {},
   "outputs": [],
   "source": [
    "2**-52"
   ]
  },
  {
   "cell_type": "markdown",
   "metadata": {},
   "source": [
    "#### Take-home message about roundoff errors (!!)\n",
    "\n",
    "The error in representing a number $\\approx$ the number itself $\\times \\, 10^{-16}$"
   ]
  },
  {
   "cell_type": "markdown",
   "metadata": {},
   "source": [
    "## Order of operations (10 min)\n",
    "\n",
    "Consider the following:"
   ]
  },
  {
   "cell_type": "code",
   "execution_count": 35,
   "metadata": {},
   "outputs": [
    {
     "data": {
      "text/plain": [
       "False"
      ]
     },
     "execution_count": 35,
     "metadata": {},
     "output_type": "execute_result"
    }
   ],
   "source": [
    "1e16+1+1 == 1+1+1e16"
   ]
  },
  {
   "cell_type": "markdown",
   "metadata": {},
   "source": [
    "????????"
   ]
  },
  {
   "cell_type": "markdown",
   "metadata": {},
   "source": [
    "Ok... let's break it down."
   ]
  },
  {
   "cell_type": "code",
   "execution_count": 31,
   "metadata": {},
   "outputs": [
    {
     "data": {
      "text/plain": [
       "False"
      ]
     },
     "execution_count": 31,
     "metadata": {},
     "output_type": "execute_result"
    }
   ],
   "source": [
    "1 + 1 + 1e16 == 1e16 # makes sense"
   ]
  },
  {
   "cell_type": "code",
   "execution_count": 32,
   "metadata": {},
   "outputs": [
    {
     "data": {
      "text/plain": [
       "True"
      ]
     },
     "execution_count": 32,
     "metadata": {},
     "output_type": "execute_result"
    }
   ],
   "source": [
    "1e16 + 1 + 1 == 1e16 # ????"
   ]
  },
  {
   "cell_type": "code",
   "execution_count": 33,
   "metadata": {},
   "outputs": [
    {
     "data": {
      "text/plain": [
       "True"
      ]
     },
     "execution_count": 33,
     "metadata": {},
     "output_type": "execute_result"
    }
   ],
   "source": [
    "1e16 + 1 + 1 +1+1+1+1+1+1+1+1+1 == 1e16"
   ]
  },
  {
   "cell_type": "markdown",
   "metadata": {},
   "source": [
    "Ok, so the first one is the weird one. We now understand the above, given our new knowledge. The spacing between $10^{16}$ and the next largest number must be more than 2, so when 1 is added to $10^{16}$ we round back down to $10^{16}$.\n",
    "\n",
    "What's happening here is that we do operations from left to right. So when we first do 1+1 we get 2. And I picked $10^{16}$ on purpose so that the spacing is more than 2 but less than 4. So when we add 2 to $10^{16}$ we do get far enough to round _up_ to the next number. In other words, the order of operations doesn't matter on paper, but it can matter in code due to floating point issues. \n",
    "\n",
    "We can check our reasoning by adding on the right side with parentheses"
   ]
  },
  {
   "cell_type": "code",
   "execution_count": 36,
   "metadata": {},
   "outputs": [
    {
     "data": {
      "text/plain": [
       "False"
      ]
     },
     "execution_count": 36,
     "metadata": {},
     "output_type": "execute_result"
    }
   ],
   "source": [
    "1e16 + (1+1) == 1e16"
   ]
  },
  {
   "cell_type": "markdown",
   "metadata": {},
   "source": [
    "For kicks:"
   ]
  },
  {
   "cell_type": "code",
   "execution_count": 38,
   "metadata": {},
   "outputs": [
    {
     "data": {
      "text/plain": [
       "True"
      ]
     },
     "execution_count": 38,
     "metadata": {},
     "output_type": "execute_result"
    }
   ],
   "source": [
    "x = 1e16\n",
    "for i in range(100_000):\n",
    "    x = x + 1\n",
    "x == 1e16"
   ]
  },
  {
   "cell_type": "markdown",
   "metadata": {},
   "source": [
    "We can make it look even more disturbing for big numbers..."
   ]
  },
  {
   "cell_type": "code",
   "execution_count": 39,
   "metadata": {},
   "outputs": [
    {
     "data": {
      "text/plain": [
       "True"
      ]
     },
     "execution_count": 39,
     "metadata": {},
     "output_type": "execute_result"
    }
   ],
   "source": [
    "1e40 + 1000000000000000000 == 1e40"
   ]
  },
  {
   "cell_type": "markdown",
   "metadata": {},
   "source": [
    "Or small numbers..."
   ]
  },
  {
   "cell_type": "code",
   "execution_count": 42,
   "metadata": {},
   "outputs": [
    {
     "data": {
      "text/plain": [
       "True"
      ]
     },
     "execution_count": 42,
     "metadata": {},
     "output_type": "execute_result"
    }
   ],
   "source": [
    "1 + 1e-20 == 1"
   ]
  },
  {
   "cell_type": "markdown",
   "metadata": {},
   "source": [
    "Very abbreviated version of this lecture: \"you have 16 digits of precision to work with\"."
   ]
  },
  {
   "cell_type": "markdown",
   "metadata": {},
   "source": [
    "**(begin optional)** By the way, what _is_ the spacing at $10^{16}$? We need to find the larest power of 2 that is less than $10^{16}$, which happens to be"
   ]
  },
  {
   "cell_type": "code",
   "execution_count": 43,
   "metadata": {},
   "outputs": [
    {
     "data": {
      "text/plain": [
       "9007199254740992.0"
      ]
     },
     "execution_count": 43,
     "metadata": {},
     "output_type": "execute_result"
    }
   ],
   "source": [
    "2.0**53 "
   ]
  },
  {
   "cell_type": "code",
   "execution_count": 44,
   "metadata": {},
   "outputs": [
    {
     "data": {
      "text/plain": [
       "'9.0072e+15'"
      ]
     },
     "execution_count": 44,
     "metadata": {},
     "output_type": "execute_result"
    }
   ],
   "source": [
    "# make it easier to read\n",
    "'%g' % 2.0**53"
   ]
  },
  {
   "cell_type": "markdown",
   "metadata": {},
   "source": [
    "Ok this looks good. So now we just need to do $2^{53}\\times 2^{-52}=2$. So the spacing is exactly 2. I guess we round down when we add 1! We can also test this:"
   ]
  },
  {
   "cell_type": "code",
   "execution_count": 45,
   "metadata": {},
   "outputs": [
    {
     "data": {
      "text/plain": [
       "True"
      ]
     },
     "execution_count": 45,
     "metadata": {},
     "output_type": "execute_result"
    }
   ],
   "source": [
    "1e16 + 1 == 1e16"
   ]
  },
  {
   "cell_type": "code",
   "execution_count": 46,
   "metadata": {},
   "outputs": [
    {
     "data": {
      "text/plain": [
       "False"
      ]
     },
     "execution_count": 46,
     "metadata": {},
     "output_type": "execute_result"
    }
   ],
   "source": [
    "1e16 + 1.0000001 == 1e16"
   ]
  },
  {
   "cell_type": "markdown",
   "metadata": {},
   "source": [
    "**(end optional)**"
   ]
  },
  {
   "cell_type": "markdown",
   "metadata": {},
   "source": [
    "## log-sum-exp (15 min)\n",
    "\n",
    "Let's consider logistic regression with one feature and no intercept, so that `w` is just a number. The loss function is :"
   ]
  },
  {
   "cell_type": "code",
   "execution_count": 48,
   "metadata": {},
   "outputs": [
    {
     "name": "stderr",
     "output_type": "stream",
     "text": [
      "/Users/mgelbart/anaconda3/lib/python3.7/site-packages/ipykernel_launcher.py:2: RuntimeWarning: overflow encountered in exp\n",
      "  \n"
     ]
    },
    {
     "data": {
      "text/plain": [
       "inf"
      ]
     },
     "execution_count": 48,
     "metadata": {},
     "output_type": "execute_result"
    }
   ],
   "source": [
    "def loss_lr_1D(w, x, y):\n",
    "    return np.sum(np.log(1 + np.exp(-y*w*x)))\n",
    "\n",
    "\n",
    "n = 100\n",
    "x = np.random.randn(n)\n",
    "x[1:10] *= 1e5\n",
    "w = np.random.randn()\n",
    "y = np.random.choice([-1,+1], size=n)\n",
    "\n",
    "loss_lr_1D(w,x,y)"
   ]
  },
  {
   "cell_type": "markdown",
   "metadata": {},
   "source": [
    "What we are doing here?\n",
    "\n",
    "$$f(w) =  \\sum_{i=1}^n \\log \\left( 1+ \\exp(-y_iwx_i) \\right) $$\n",
    "\n",
    "The key is that we're computing $\\log(1+\\exp(z))$ and getting an overflow when $z\\gg 1$. \n",
    "\n",
    "(Note: when doing the optimization, we only really need the gradient of the loss, so this isn't a completely realistic concern. But it happens for real in related problems.)\n",
    "\n",
    "But when $z\\gg1$ we can say $1+\\exp(z)\\approx \\exp(z)$ and in that case  \n",
    "\n",
    "$$\\log(1+\\exp(z))\\approx \\log(\\exp(z)) = z$$\n",
    "\n",
    "We can try it..."
   ]
  },
  {
   "cell_type": "code",
   "execution_count": 59,
   "metadata": {},
   "outputs": [],
   "source": [
    "def log_1_plus_exp(z):\n",
    "    return np.log(1+np.exp(z))\n",
    "\n",
    "def log_1_plus_exp_safe(z):\n",
    "    if z > 100:\n",
    "        return z\n",
    "    else:\n",
    "        return log_1_plus_exp(z)"
   ]
  },
  {
   "cell_type": "code",
   "execution_count": 60,
   "metadata": {},
   "outputs": [
    {
     "name": "stdout",
     "output_type": "stream",
     "text": [
      "0.6931471805599453\n",
      "0.6931471805599453\n"
     ]
    }
   ],
   "source": [
    "print(log_1_plus_exp(0))\n",
    "print(log_1_plus_exp_safe(0))"
   ]
  },
  {
   "cell_type": "code",
   "execution_count": 56,
   "metadata": {},
   "outputs": [
    {
     "name": "stdout",
     "output_type": "stream",
     "text": [
      "inf\n",
      "inf\n"
     ]
    },
    {
     "name": "stderr",
     "output_type": "stream",
     "text": [
      "/Users/mgelbart/anaconda3/lib/python3.7/site-packages/ipykernel_launcher.py:2: RuntimeWarning: overflow encountered in exp\n",
      "  \n"
     ]
    }
   ],
   "source": [
    "print(log_1_plus_exp(1000))\n",
    "print(log_1_plus_exp_safe(1000))"
   ]
  },
  {
   "cell_type": "code",
   "execution_count": 53,
   "metadata": {},
   "outputs": [
    {
     "name": "stdout",
     "output_type": "stream",
     "text": [
      "110.0\n",
      "110.0\n"
     ]
    }
   ],
   "source": [
    "print(log_1_plus_exp(110.))\n",
    "print(log_1_plus_exp_safe(110.))"
   ]
  },
  {
   "cell_type": "markdown",
   "metadata": {},
   "source": [
    "This is cool! We combined math + CS + our brains and got better results!"
   ]
  },
  {
   "cell_type": "markdown",
   "metadata": {},
   "source": [
    "#### more take-home messages\n",
    "\n",
    "- By combining an understanding of floating point errors and math, we can write better code.\n",
    "- This is one (of many) reasons why we use libraries like sklearn rather than implementing things ourself. Other reasons: speed, edge cases, updates over time, less likely to contain a bug.\n"
   ]
  },
  {
   "cell_type": "markdown",
   "metadata": {},
   "source": [
    "#### (optional) Moving to $d>1$ and multi-class\n",
    "\n",
    "- When $d>1$ not much changes, except that your $z$ above is actually a dot product of a $w$-vector and an $x$-vector, so getting big numbers in there starts to be a much bigger problem. The above is then even more important. \n",
    "- Imagine $d=1000000$. Even if these numbers look like random noise (both positive and negative, cancelling each other out) by the central limit theorem their sum will grow like $\\sqrt{n}$ and eventually overflow will be a problem. You only need to get to $z=1000$ before problems hit.\n",
    "- When the number of classes change then things change more substantially. In particular with $K$ classes the $\\log(1+\\exp(z))$ flavour changes to\n",
    "\n",
    "$$\\log\\left(\\sum_{k=1}^K \\exp(z_k)\\right)$$\n",
    "\n",
    "In that case we play a different trick which is to pull out the max $z_k$. More on this in lab 2!"
   ]
  },
  {
   "cell_type": "markdown",
   "metadata": {},
   "source": [
    "## (optional) Inverting matrices (5 min)\n",
    "\n",
    "Sometime we take the inverse of a matrix. I have seen it happen.\n",
    "\n",
    "Key point: _this is almost always a bad idea!_\n",
    "\n",
    "- If you actually need the inverse, then you must compute it\n",
    "- But in real situations you almost always need to solve $Ax=b$ given some $b$\n",
    "- In this case, use a solve function to compute this directly, rather than going to $x=A^{-1}b$."
   ]
  },
  {
   "cell_type": "code",
   "execution_count": 62,
   "metadata": {},
   "outputs": [],
   "source": [
    "A = np.random.rand(3,3) # random 3x3 matrix\n",
    "b = np.random.rand(3)\n",
    "\n",
    "x1 = npla.inv(A) @ b"
   ]
  },
  {
   "cell_type": "code",
   "execution_count": 63,
   "metadata": {},
   "outputs": [
    {
     "data": {
      "text/plain": [
       "array([ 3.75901497,  4.16954844, -5.13845011])"
      ]
     },
     "execution_count": 63,
     "metadata": {},
     "output_type": "execute_result"
    }
   ],
   "source": [
    "x1"
   ]
  },
  {
   "cell_type": "code",
   "execution_count": 64,
   "metadata": {},
   "outputs": [],
   "source": [
    "x2 = npla.solve(A, b)"
   ]
  },
  {
   "cell_type": "code",
   "execution_count": 65,
   "metadata": {},
   "outputs": [
    {
     "data": {
      "text/plain": [
       "array([ 3.75901497,  4.16954844, -5.13845011])"
      ]
     },
     "execution_count": 65,
     "metadata": {},
     "output_type": "execute_result"
    }
   ],
   "source": [
    "x2"
   ]
  },
  {
   "cell_type": "code",
   "execution_count": 66,
   "metadata": {},
   "outputs": [
    {
     "data": {
      "text/plain": [
       "True"
      ]
     },
     "execution_count": 66,
     "metadata": {},
     "output_type": "execute_result"
    }
   ],
   "source": [
    "np.allclose(x1,x2) # looks good"
   ]
  },
  {
   "cell_type": "code",
   "execution_count": 67,
   "metadata": {},
   "outputs": [],
   "source": [
    "n = 250\n",
    "A = np.vander(np.random.rand(n))\n",
    "b = np.random.rand(n)\n",
    "\n",
    "y1 = npla.inv(A) @ b"
   ]
  },
  {
   "cell_type": "code",
   "execution_count": 68,
   "metadata": {},
   "outputs": [],
   "source": [
    "y2 = npla.solve(A,b)"
   ]
  },
  {
   "cell_type": "code",
   "execution_count": 69,
   "metadata": {},
   "outputs": [
    {
     "data": {
      "text/plain": [
       "False"
      ]
     },
     "execution_count": 69,
     "metadata": {},
     "output_type": "execute_result"
    }
   ],
   "source": [
    "np.allclose(y1,y2)"
   ]
  },
  {
   "cell_type": "code",
   "execution_count": 70,
   "metadata": {},
   "outputs": [
    {
     "data": {
      "text/plain": [
       "2.0090805554183255e+117"
      ]
     },
     "execution_count": 70,
     "metadata": {},
     "output_type": "execute_result"
    }
   ],
   "source": [
    "np.max(y1-y2)"
   ]
  },
  {
   "cell_type": "markdown",
   "metadata": {},
   "source": [
    "What happened??\n",
    "\n",
    "Well, we're not really going to go into detail here. But, basically, just don't compute the inverse if you don't have to..."
   ]
  }
 ],
 "metadata": {
  "anaconda-cloud": {},
  "kernelspec": {
   "display_name": "Python 3",
   "language": "python",
   "name": "python3"
  },
  "language_info": {
   "codemirror_mode": {
    "name": "ipython",
    "version": 3
   },
   "file_extension": ".py",
   "mimetype": "text/x-python",
   "name": "python",
   "nbconvert_exporter": "python",
   "pygments_lexer": "ipython3",
   "version": "3.7.3"
  }
 },
 "nbformat": 4,
 "nbformat_minor": 4
}
