{
 "cells": [
  {
   "cell_type": "markdown",
   "metadata": {},
   "source": [
    "# DSCI 572 \"lecture\" 5"
   ]
  },
  {
   "cell_type": "markdown",
   "metadata": {},
   "source": [
    "Lecture outline:\n",
    "\n",
    "- Video recap (15 min)\n",
    "- True/false questions (25 min)\n",
    "- Break (5 min)\n",
    "- Activation functions (5 min)\n",
    "- Deep learing software; Keras (20 min) \n",
    "- Counting parameters (10 min)\n",
    "- Wrap-up"
   ]
  },
  {
   "cell_type": "code",
   "execution_count": 1,
   "metadata": {},
   "outputs": [],
   "source": [
    "import numpy as np\n",
    "import matplotlib.pyplot as plt\n",
    "from matplotlib import cm\n",
    "from mpl_toolkits.mplot3d import Axes3D\n",
    "\n",
    "%matplotlib inline"
   ]
  },
  {
   "cell_type": "markdown",
   "metadata": {},
   "source": [
    "#### Dependencies:\n",
    "\n",
    "- tensorflow: `conda install tensorflow`"
   ]
  },
  {
   "cell_type": "code",
   "execution_count": 2,
   "metadata": {},
   "outputs": [],
   "source": [
    "import tensorflow as tf\n",
    "from tensorflow import keras \n",
    "from tensorflow.keras.models import Sequential\n",
    "from tensorflow.keras.layers import Dense"
   ]
  },
  {
   "cell_type": "code",
   "execution_count": null,
   "metadata": {},
   "outputs": [],
   "source": [
    "plt.rcParams['font.size'] = 16"
   ]
  },
  {
   "cell_type": "markdown",
   "metadata": {},
   "source": [
    "## Video recap (10 min)\n",
    "\n",
    "We define the function recursively:\n",
    "\n",
    "$$ x^{(l+1)} = h\\left( W^{(l)} x^{(l)} + b^{(l)}\\right) $$\n",
    "\n",
    "where $W^{(l)}$ is a matrix of parameters, $b^{(l)}$ is a vector of parameters. \n",
    "\n",
    "So what is $x^{(l)}$?\n",
    " * $x^{(0)}$ are the inputs\n",
    " * $x^{(L)}$ are the outputs, so we can say $\\hat{y}=x^{(L)}$\n",
    " * we refer to $L-1$ as the _number of hidden layers_\n"
   ]
  },
  {
   "cell_type": "code",
   "execution_count": 12,
   "metadata": {},
   "outputs": [
    {
     "data": {
      "text/plain": [
       "array([1.8205921])"
      ]
     },
     "execution_count": 12,
     "metadata": {},
     "output_type": "execute_result"
    }
   ],
   "source": [
    "def example_1_layer_nn_predict(x,W,h): # x is a vector, W is a matrix\n",
    "    return h(W@x)\n",
    "\n",
    "x = np.random.rand(5)   # d = 5\n",
    "W = np.random.rand(2,5) # transforming from 5 dimensions to 2 dimensions\n",
    "h = lambda x: x**2      # just an example, not a typical choice...\n",
    "\n",
    "example_1_layer_nn_predict(x,W,h)"
   ]
  },
  {
   "cell_type": "markdown",
   "metadata": {},
   "source": [
    "Above, the size of the input is 5 and the size of the output is 2."
   ]
  },
  {
   "cell_type": "code",
   "execution_count": 6,
   "metadata": {},
   "outputs": [
    {
     "name": "stdout",
     "output_type": "stream",
     "text": [
      "[0.28821402 0.13979339 0.77621579 0.55349495 0.34569656]\n"
     ]
    },
    {
     "data": {
      "text/plain": [
       "array([0.69244368])"
      ]
     },
     "execution_count": 6,
     "metadata": {},
     "output_type": "execute_result"
    }
   ],
   "source": [
    "def example_nn_predict(x,W,h): # x is a vector, W is a _list of matrices_\n",
    "    for W_l in W:\n",
    "        x = h(W_l@x)\n",
    "    return x\n",
    "\n",
    "x = np.random.rand(5)\n",
    "W1 = np.random.rand(2,5)\n",
    "W2 = np.random.rand(1,2)\n",
    "h = lambda x: x**2\n",
    "print(x)\n",
    "example_nn_predict(x, [W1,W2], h)"
   ]
  },
  {
   "cell_type": "code",
   "execution_count": 10,
   "metadata": {},
   "outputs": [
    {
     "data": {
      "text/plain": [
       "array([1.37072317, 1.06698315])"
      ]
     },
     "execution_count": 10,
     "metadata": {},
     "output_type": "execute_result"
    }
   ],
   "source": [
    "hid = h(W1@x)\n",
    "hid"
   ]
  },
  {
   "cell_type": "code",
   "execution_count": 11,
   "metadata": {},
   "outputs": [
    {
     "data": {
      "text/plain": [
       "array([0.69244368])"
      ]
     },
     "execution_count": 11,
     "metadata": {},
     "output_type": "execute_result"
    }
   ],
   "source": [
    "h(W2@hid)"
   ]
  },
  {
   "cell_type": "markdown",
   "metadata": {},
   "source": [
    "Above, the size of the input is 5 and the size of the output is 1. This could now be used for regression, if we could somehow define a loss and find the $W$ matrices that minimize it..."
   ]
  },
  {
   "cell_type": "markdown",
   "metadata": {},
   "source": [
    "\n",
    "Also: \n",
    " - the $W^{(l)}$ do _not_ need to be square. \n",
    " - the $x^{(l)}$ for $0<l<L$ are \"intermediate states\"\n",
    "   - there are called _hidden units_ or _hidden neurons_\n",
    "   - the _values_ of these units are called _activations_\n",
    " - we often refer to the elements of $W$ as \"weights\" and the elements of $b$ as \"biases\"\n",
    " - we might not apply $h$ at the last layer... more details to come.\n",
    " \n",
    "![](https://upload.wikimedia.org/wikipedia/commons/4/46/Colored_neural_network.svg)\n",
    "\n",
    "In the diagrams above, circles are states and arrows carry weights.\n",
    "\n",
    "Important note: neural nets map from $\\mathbb{R}^d\\rightarrow \\mathbb{R}^k$ for some arbitrary $d$ and $k$. The outputs do not have to be scalars. We will make use of this later!"
   ]
  },
  {
   "cell_type": "markdown",
   "metadata": {},
   "source": [
    "#### Vocabulary\n",
    "\n",
    "- deep learning\n",
    "- (artificial) neural net(work)\n",
    "- NN, ANN, CNN\n",
    "- layers\n",
    "- units, neurons, activations\n",
    "- hidden, visible\n",
    "- activation function, nonlinearity\n",
    "- ReLU, sigmoid\n",
    "- backprop(agation)"
   ]
  },
  {
   "cell_type": "markdown",
   "metadata": {},
   "source": [
    "## True/False questions (25 min)\n",
    "\n",
    "1. Neural networks can be used for both regression and classification.\n",
    "2. For (fully connected) neural networks, the number of parameters $\\geq$ the number of features.\n",
    "3. Linear regression is a special case of a neural network.\n",
    "4. Neural networks are non-parametric.\n",
    "\n",
    "<br><br><br><br><br><br><br><br><br>"
   ]
  },
  {
   "cell_type": "markdown",
   "metadata": {},
   "source": [
    "1. Any neural network with 3 hidden layers will have more parameters than any neural network with 2 hidden layers.\n",
    "2. With neural networks, we have a potentially large number of **discrete** hyperparamaters. \n",
    "3. With neural networks, we have a potentially large number of **discrete** parameters. \n",
    "4. Like linear regression or logistic regression, with neural networks we can interpret each feature's weight value as a measure of the feature's importance.\n",
    "\n",
    "<br><br><br><br><br><br><br><br><br>"
   ]
  },
  {
   "cell_type": "markdown",
   "metadata": {},
   "source": [
    "## Break (5 min)"
   ]
  },
  {
   "cell_type": "markdown",
   "metadata": {},
   "source": [
    "## Activation functions (5 min)\n",
    "\n",
    " - $h$ is called the _activation function_. \n",
    " - Question: why do we need $h$ at all?\n",
    " - Answer: if no $h$, then we are composing a bunch of linear functions, which just leaves us with a linear function.\n",
    " - Insight: if $h$ is nonlinear, then increasing the number of \"layers\" increases the complexity of the overall function. \n",
    " \n",
    "In neural networks, we choose $h$ to be an _elementwise_ nonlinear function. i.e.\n",
    "\n",
    "$$h(x)\\equiv\\left[\\begin{array}{c}h(x_1)\\\\h(x_2)\\\\ \\vdots \\\\ h(x_d)  \\end{array}\\right]$$\n",
    "\n",
    "Activation functions tend to be continuous, but are [not always smooth or monotonic](https://arxiv.org/pdf/1710.05941.pdf)."
   ]
  },
  {
   "cell_type": "code",
   "execution_count": 35,
   "metadata": {},
   "outputs": [
    {
     "data": {
      "image/png": "[encoded data removed]",
      "text/plain": [
       "<Figure size 432x288 with 1 Axes>"
      ]
     },
     "metadata": {
      "needs_background": "light"
     },
     "output_type": "display_data"
    }
   ],
   "source": [
    "x = np.linspace(-10,10,1000)\n",
    "h_sigmoid = lambda x: 1/(1+np.exp(-x))\n",
    "plt.plot(x,h_sigmoid(x))\n",
    "plt.ylim(-0.1,1.1);\n",
    "plt.xlabel('x');\n",
    "plt.ylabel('h(x)');\n",
    "plt.title(\"Sigmoid (aka logistic) activation function\");"
   ]
  },
  {
   "cell_type": "markdown",
   "metadata": {},
   "source": [
    "Sometimes people also use the hyperbolic tangent. It's basically the same thing but has a range of $(-1,1)$ instead of $(0,1)$. "
   ]
  },
  {
   "cell_type": "code",
   "execution_count": 36,
   "metadata": {},
   "outputs": [
    {
     "data": {
      "image/png": "[encoded data removed]",
      "text/plain": [
       "<Figure size 432x288 with 1 Axes>"
      ]
     },
     "metadata": {
      "needs_background": "light"
     },
     "output_type": "display_data"
    }
   ],
   "source": [
    "plt.plot(x, np.tanh(x));\n",
    "plt.xlabel('x');\n",
    "plt.ylabel('h(x)');\n",
    "plt.title(\"tanh activation function\");"
   ]
  },
  {
   "cell_type": "markdown",
   "metadata": {},
   "source": [
    "More recently, people use the ReLU (Rectified Linear Unit)"
   ]
  },
  {
   "cell_type": "code",
   "execution_count": 37,
   "metadata": {},
   "outputs": [
    {
     "data": {
      "image/png": "[encoded data removed]",
      "text/plain": [
       "<Figure size 432x288 with 1 Axes>"
      ]
     },
     "metadata": {
      "needs_background": "light"
     },
     "output_type": "display_data"
    }
   ],
   "source": [
    "h_relu = lambda x: np.maximum(0,x) \n",
    "plt.plot(x, h_relu(x));\n",
    "plt.xlabel('x');\n",
    "plt.ylabel('h(x)');\n",
    "plt.title(\"ReLU activation function\");"
   ]
  },
  {
   "cell_type": "code",
   "execution_count": 38,
   "metadata": {},
   "outputs": [
    {
     "data": {
      "image/png": "[encoded data removed]",
      "text/plain": [
       "<Figure size 432x288 with 1 Axes>"
      ]
     },
     "metadata": {
      "needs_background": "light"
     },
     "output_type": "display_data"
    }
   ],
   "source": [
    "β = 0.5\n",
    "plt.plot(x, x / (1+np.exp(-β*x)));\n",
    "plt.xlabel('x');\n",
    "plt.ylabel('h(x)');\n",
    "plt.title(\"swish activation function\");"
   ]
  },
  {
   "cell_type": "markdown",
   "metadata": {},
   "source": [
    "- Student question: why would you ever \"split\" a feature into multiple values? Isn't that redundant?\n",
    "- Answer: no, it can lead to more complex functions. Let's try a regression case with 1 feature:"
   ]
  },
  {
   "cell_type": "code",
   "execution_count": 41,
   "metadata": {},
   "outputs": [
    {
     "data": {
      "image/png": "[encoded data removed]",
      "text/plain": [
       "<Figure size 432x288 with 1 Axes>"
      ]
     },
     "metadata": {
      "needs_background": "light"
     },
     "output_type": "display_data"
    }
   ],
   "source": [
    "x = np.linspace(-1,1,1000)[None]\n",
    "k = 100\n",
    "W1 = np.random.randn(k,1)\n",
    "b1 = np.random.randn()\n",
    "W2 = np.random.randn(1,k)\n",
    "b2 = np.random.randn()\n",
    "\n",
    "hid = h_relu(W1@x+b1)\n",
    "y = W2 @ hid + b2\n",
    "plt.plot(np.squeeze(x), np.squeeze(y));"
   ]
  },
  {
   "cell_type": "code",
   "execution_count": 31,
   "metadata": {},
   "outputs": [
    {
     "data": {
      "text/plain": [
       "array([[2.13632255, 2.13366021, 2.13099788, ..., 0.        , 0.        ,\n",
       "        0.        ],\n",
       "       [1.8698134 , 1.86768462, 1.86555583, ..., 0.        , 0.        ,\n",
       "        0.        ],\n",
       "       [1.41135371, 1.41014276, 1.40893182, ..., 0.20404104, 0.20283009,\n",
       "        0.20161915],\n",
       "       ...,\n",
       "       [0.47577775, 0.47643982, 0.4771019 , ..., 1.13587095, 1.13653303,\n",
       "        1.13719511],\n",
       "       [1.48137292, 1.48002179, 1.47867067, ..., 0.13430219, 0.13295106,\n",
       "        0.13159994],\n",
       "       [2.01222972, 2.00981582, 2.00740192, ..., 0.        , 0.        ,\n",
       "        0.        ]])"
      ]
     },
     "execution_count": 31,
     "metadata": {},
     "output_type": "execute_result"
    }
   ],
   "source": [
    "hid"
   ]
  },
  {
   "cell_type": "markdown",
   "metadata": {},
   "source": [
    "## Deep learning software (20 min)\n",
    "\n",
    "- There's been a lot of software released lately to take care of this for you. \n",
    "- Here is some historical information, for your reference.\n",
    "\n",
    "| Name   |  Host language  | Released |  Comments | Stars on GitHub (Jan 2019) |\n",
    "|--------|-------------|---------------|----------|-----------------|\n",
    "| [Torch](http://torch.ch) | Lua | 2002 | Used at Facebook | 8k |\n",
    "| [Theano](http://deeplearning.net/software/theano/) | Python | 2007 | From U. de Montréal, going out of fashion | 9k |\n",
    "| [Caffe](http://caffe.berkeleyvision.org) | Executable with Python wrapper | 2014 | Designed for CNNs, by UC Berkeley | 27k\n",
    "| [TensorFlow](https://www.tensorflow.org) | Python | 2015 | Created by Google for both prototyping and production | 118k\n",
    "| [Keras](https://keras.io) | Python | 2015 | A front-end on top of Theano or TensorFlow | 37k\n",
    "| [PyTorch](http://pytorch.org) | Python | 2017 | Automatic differentiation through arbitrary code like Autograd | 24k |\n",
    "| [Caffe 2](https://caffe2.ai/) | Python or C++ | 2017 | Facebook, open source, [_merged with PyTorch last year_](https://caffe2.ai/blog/2018/05/02/Caffe2_PyTorch_1_0.html) | repo archived, 8k\n",
    "| [TensorFlow 2.0](https://www.tensorflow.org) | Python | 2019 | Keras incorporated into TensorFlow; other improvements | 118k\n",
    "\n",
    "- The current big players are **TensorFlow** and **PyTorch**.\n",
    "- A lot of people I talk to say PyTorch is easier to use.\n",
    "  - However, I designed this course before PyTorch was created!\n",
    "  - This course uses TensorFlow, specifically tf.keras. \n",
    "  - I may change it someday, or may not, we'll see.\n",
    "  - TensorFlow is extremely popular, and it works for our purposes.\n",
    "\n",
    "- If interested, see [comparison of deep learning software](https://en.wikipedia.org/wiki/Comparison_of_deep_learning_software).\n",
    "- scikit-learn also has its [MLPRegressor](https://scikit-learn.org/stable/modules/generated/sklearn.neural_network.MLPRegressor.html) and [MLPClassifier](https://scikit-learn.org/stable/modules/generated/sklearn.neural_network.MLPClassifier.html). \n",
    "  - These were shown in the lecture video.\n",
    "  - They have very limited functionality and generally aren't recommended.\n",
    "  - Even Keras is on the user-friendly-but-less-flexible side.\n",
    "  - Fun fact: these classes were contributed to scikit-learn by a UBC graduate student."
   ]
  },
  {
   "cell_type": "code",
   "execution_count": 3,
   "metadata": {},
   "outputs": [
    {
     "data": {
      "image/png": "[encoded data removed]",
      "text/plain": [
       "<Figure size 432x288 with 1 Axes>"
      ]
     },
     "metadata": {
      "needs_background": "light"
     },
     "output_type": "display_data"
    }
   ],
   "source": [
    "# generate synthetic 1D data\n",
    "np.random.seed(5)\n",
    "N = 200\n",
    "X = np.random.rand(N,1)\n",
    "y = np.sin(2*X) + np.random.randn(N,1)*0.03\n",
    "\n",
    "plt.figure()\n",
    "plt.plot(X,y,'.',markersize=10);"
   ]
  },
  {
   "cell_type": "code",
   "execution_count": 4,
   "metadata": {},
   "outputs": [
    {
     "name": "stdout",
     "output_type": "stream",
     "text": [
      "0.000869073192588985\n"
     ]
    }
   ],
   "source": [
    "model = Sequential()\n",
    "model.add(Dense(10, input_dim=1, activation='tanh'))\n",
    "model.add(Dense(15, activation='tanh'))\n",
    "model.add(Dense(1, activation='linear'))\n",
    "\n",
    "# Compile model\n",
    "# This is where the magic happens!\n",
    "model.compile(loss='mean_squared_error', optimizer=\"adam\")\n",
    "\n",
    "# Fit the model\n",
    "# loss=model.evaluate(X, y,verbose=0)\n",
    "# print(loss)\n",
    "model.fit(X, y, epochs=1000, verbose=0)\n",
    "\n",
    "# evaluate the model\n",
    "loss = model.evaluate(X, y,verbose=0)\n",
    "print(loss)"
   ]
  },
  {
   "cell_type": "markdown",
   "metadata": {},
   "source": [
    "Note: in scikit-learn, we use one line of Python code to set up the model and set the hyperparameters. For example:\n",
    "\n",
    "```python\n",
    "model = SVC(C=5, gamma=0.1)\n",
    "```\n",
    "\n",
    "In Keras, we use multiple lines of Python code to set up the model. For example:\n",
    "\n",
    "```python\n",
    "model = Sequential()\n",
    "model.add(Dense(10, input_dim=1, activation='tanh', kernel_initializer='lecun_uniform',))\n",
    "model.add(Dense(10, activation='tanh', kernel_initializer='lecun_uniform',))\n",
    "model.add(Dense(1, activation='linear', kernel_initializer='lecun_uniform',))\n",
    "```\n",
    "\n",
    "- This design decision just makes the code more human-readable.\n",
    "- One line of code per layer of the network.\n",
    "- But there's nothing fundamental about it, one could also put the architecture/hypers on one line, in a file, etc."
   ]
  },
  {
   "cell_type": "code",
   "execution_count": null,
   "metadata": {
    "scrolled": true
   },
   "outputs": [],
   "source": [
    "plt.plot(X,y,'.',markersize=10,label=\"data\")\n",
    "grid = np.linspace(0,1,1000)[:,None]\n",
    "plt.plot(grid, model.predict(grid),linewidth=5,label=\"model\")\n",
    "plt.legend();\n",
    "# list(map(lambda x: x.shape, NN.W))"
   ]
  },
  {
   "cell_type": "markdown",
   "metadata": {},
   "source": [
    "(Repeat from video) we can also look at regression surfaces with random weights:"
   ]
  },
  {
   "cell_type": "code",
   "execution_count": null,
   "metadata": {},
   "outputs": [],
   "source": [
    "# random weights\n",
    "model = Sequential()\n",
    "model.add(Dense(50, input_dim=2, activation='tanh', kernel_initializer='lecun_uniform'))\n",
    "model.add(Dense(1, activation='linear', kernel_initializer='lecun_uniform',))\n",
    "model.compile(loss='mean_squared_error', optimizer='sgd')\n",
    "\n",
    "fig = plt.figure()\n",
    "ax = fig.gca(projection='3d')\n",
    "\n",
    "n = 100\n",
    "X = np.linspace(-5, 5, n)\n",
    "Y = np.linspace(-5, 5, n)\n",
    "X, Y = np.meshgrid(X, Y)\n",
    "\n",
    "inputs = np.append(X.flatten()[:,None], Y.flatten()[:,None],axis=1)\n",
    "outputs = model.predict(inputs)\n",
    "Z = np.reshape(outputs, [n,n])\n",
    "\n",
    "# Plot the surface.\n",
    "surf = ax.plot_surface(X, Y, Z, cmap=cm.coolwarm, linewidth=0)"
   ]
  },
  {
   "cell_type": "markdown",
   "metadata": {},
   "source": [
    "## Parameters and hyperparameters (20 min)"
   ]
  },
  {
   "cell_type": "code",
   "execution_count": 3,
   "metadata": {},
   "outputs": [],
   "source": [
    "model = Sequential()\n",
    "model.add(Dense(10, input_dim=1, activation='tanh', kernel_initializer='lecun_uniform',))\n",
    "model.add(Dense(5, activation='tanh', kernel_initializer='lecun_uniform',))\n",
    "model.add(Dense(1, activation='linear', kernel_initializer='lecun_uniform',))"
   ]
  },
  {
   "cell_type": "code",
   "execution_count": 4,
   "metadata": {
    "scrolled": true
   },
   "outputs": [],
   "source": [
    "# if you install graphviz and pydot, the following will \"draw\" the network architecture\n",
    "# however I find it more confusing than helpful\n",
    "# from keras.utils.vis_utils import model_to_dot\n",
    "# import graphviz\n",
    "# graphviz.Source(model_to_dot(model, show_shapes=True))"
   ]
  },
  {
   "cell_type": "code",
   "execution_count": 5,
   "metadata": {},
   "outputs": [
    {
     "name": "stdout",
     "output_type": "stream",
     "text": [
      "Model: \"sequential\"\n",
      "_________________________________________________________________\n",
      "Layer (type)                 Output Shape              Param #   \n",
      "=================================================================\n",
      "dense (Dense)                (None, 10)                20        \n",
      "_________________________________________________________________\n",
      "dense_1 (Dense)              (None, 5)                 55        \n",
      "_________________________________________________________________\n",
      "dense_2 (Dense)              (None, 1)                 6         \n",
      "=================================================================\n",
      "Total params: 81\n",
      "Trainable params: 81\n",
      "Non-trainable params: 0\n",
      "_________________________________________________________________\n"
     ]
    }
   ],
   "source": [
    "model.summary()"
   ]
  },
  {
   "cell_type": "markdown",
   "metadata": {},
   "source": [
    "Below: we can inspect the weights themselves, and print out their shapes:"
   ]
  },
  {
   "cell_type": "code",
   "execution_count": 6,
   "metadata": {
    "scrolled": true
   },
   "outputs": [
    {
     "name": "stdout",
     "output_type": "stream",
     "text": [
      "(1, 10)\n",
      "(10,)\n",
      "(10, 5)\n",
      "(5,)\n",
      "(5, 1)\n",
      "(1,)\n"
     ]
    }
   ],
   "source": [
    "for W in model.get_weights():\n",
    "    print(W.shape)"
   ]
  },
  {
   "cell_type": "markdown",
   "metadata": {},
   "source": [
    "WARNING: Keras uses the opposite notation that we use. Here, if the shape of $W$ is $1\\times 10$ that means transforming from $1$ number to $10$ numbers. In our notation, it's the other way around: if $W$ is $1 \\times 10$ that means transforming from $10$ numbers to $1$ number. You'll see both notations out in the wild.\n",
    "\n",
    "- The Keras notation is more intuitive in that the shapes are $(d_\\text{in},d_\\text{out})$ rather than $(d_\\text{out},d_\\text{in}$).\n",
    "- Our notation is more convenient because we can write $Wx$ instead of $W^Tx$ everywhere.\n",
    "  - And this also makes it consistent with notation from CPSC 340."
   ]
  },
  {
   "cell_type": "markdown",
   "metadata": {},
   "source": [
    "#### Number of parameters\n",
    "\n",
    "- There's no agreed upon convention for the number of layers.\n",
    "- Let's say, for our purposes, that $x^{(0)}$ is an input and $x^{(L)}$ is an output, which means we have $L+1$ total layers and $L-1$ hidden layers.\n",
    "- Let $d_0,d_1,d_2,\\ldots,d_L$ be the dimensionality of the layers. \n",
    " - So $d_0=d$ (input layer) and $d_L=k$ (output layer).\n",
    " - We get to pick the dimensionality of each of the hidden layers, i.e. $d_1,\\ldots,d_{L-1}$; these are hyperparameters. "
   ]
  },
  {
   "cell_type": "markdown",
   "metadata": {},
   "source": [
    "#### In general, how many parameters do we have?\n",
    "\n",
    "- Weights: $d_0d_1 + d_1d_2 + \\ldots + d_{L-1}d_L$\n",
    "- Biases: $d_1 + d_2 + \\ldots + d_L$\n",
    "- Total: \n",
    "\n",
    "$$(d_0+1)d_1 + (d_1+1)d_2 + \\ldots + (d_{L-1}+1)d_L$$\n",
    "\n",
    "- Again, this is just bookkeeping. But it's important to realize that  **this is potentially a lot of parameters!!**\n",
    "  - Example: in the 3Blue1Brown video, we had 13,002 parameters.\n",
    "  - Example: let $L=3,d_0=d_1=d_2=d_3=1000$. Then we have millions of parameters! \n",
    "- Sometimes we have billions. \n",
    "- So we have a million-dimensional non-convex optimization problem. That's hard. More on this next class."
   ]
  },
  {
   "cell_type": "code",
   "execution_count": null,
   "metadata": {},
   "outputs": [],
   "source": [
    "model = Sequential()\n",
    "model.add(Dense(1000, input_dim=1000)) # d0=1000, d1=1000\n",
    "model.summary()"
   ]
  },
  {
   "cell_type": "code",
   "execution_count": null,
   "metadata": {},
   "outputs": [],
   "source": [
    "model.add(Dense(1000)) # d2=1000\n",
    "model.summary()"
   ]
  },
  {
   "cell_type": "code",
   "execution_count": null,
   "metadata": {},
   "outputs": [],
   "source": [
    "model.add(Dense(1000)) # d3=1000\n",
    "model.summary()"
   ]
  },
  {
   "cell_type": "markdown",
   "metadata": {},
   "source": [
    "## Wrap-up\n",
    "\n",
    "#### Summary:\n",
    "\n",
    "- \"Neural networks\" just refers to a class of functions.\n",
    "- These functions are weird because they're defined recursively.\n",
    "  - So you can think of them having an intermediate (\"hidden\") state.\n",
    "- Each layer is followed by an activation function, that's applied elementwise to each \"unit\".\n",
    "- A lot of deep learning software has emerged recently; we'll use Keras.\n",
    "- Compared to other methods we've studied, neural networks have a lot of parameters and a lot of hyperparameters.\n",
    "\n",
    "#### Preview of next class:\n",
    "\n",
    "- Today we talked about what a neural network is.\n",
    "- Next class we'll talk about how to train it. \n",
    "- It's a bit more complicated than just \"apply gradient descent\" because:\n",
    "  - The loss is non-convex.\n",
    "  - The number of parameters is potentially huge (searching a very high-dimensional space).\n",
    "  - The number of training examples often needs to be huge (computation is slow).\n",
    "- Tomorrow in DSCI 573 you will (hopefully) be discussing regularization, which we'll be using in this class right away.\n",
    "  - We need methods for combatting overfitting because the number of parameters can get so large. "
   ]
  },
  {
   "cell_type": "code",
   "execution_count": null,
   "metadata": {},
   "outputs": [],
   "source": []
  }
 ],
 "metadata": {
  "anaconda-cloud": {},
  "kernelspec": {
   "display_name": "Python 3",
   "language": "python",
   "name": "python3"
  },
  "language_info": {
   "codemirror_mode": {
    "name": "ipython",
    "version": 3
   },
   "file_extension": ".py",
   "mimetype": "text/x-python",
   "name": "python",
   "nbconvert_exporter": "python",
   "pygments_lexer": "ipython3",
   "version": "3.7.4"
  }
 },
 "nbformat": 4,
 "nbformat_minor": 4
}
